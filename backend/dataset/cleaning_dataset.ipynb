{
  "nbformat": 4,
  "nbformat_minor": 0,
  "metadata": {
    "colab": {
      "provenance": []
    },
    "kernelspec": {
      "name": "python3",
      "display_name": "Python 3"
    },
    "language_info": {
      "name": "python"
    }
  },
  "cells": [
    {
      "cell_type": "code",
      "execution_count": 29,
      "metadata": {
        "id": "mb9X5Lfe1Jo-"
      },
      "outputs": [],
      "source": [
        "from google.colab import files\n",
        "import pandas as pd\n",
        "import matplotlib.pyplot as plt\n",
        "import seaborn as sns"
      ]
    },
    {
      "cell_type": "code",
      "source": [
        "uploaded = files.upload()"
      ],
      "metadata": {
        "colab": {
          "base_uri": "https://localhost:8080/",
          "height": 73
        },
        "id": "1UFqLIPq1fun",
        "outputId": "a9fb9b33-fb24-4b21-b3d8-3e2b4fba5483"
      },
      "execution_count": 30,
      "outputs": [
        {
          "output_type": "display_data",
          "data": {
            "text/plain": [
              "<IPython.core.display.HTML object>"
            ],
            "text/html": [
              "\n",
              "     <input type=\"file\" id=\"files-6ce0d423-447c-4536-908d-3936a93c9909\" name=\"files[]\" multiple disabled\n",
              "        style=\"border:none\" />\n",
              "     <output id=\"result-6ce0d423-447c-4536-908d-3936a93c9909\">\n",
              "      Upload widget is only available when the cell has been executed in the\n",
              "      current browser session. Please rerun this cell to enable.\n",
              "      </output>\n",
              "      <script>// Copyright 2017 Google LLC\n",
              "//\n",
              "// Licensed under the Apache License, Version 2.0 (the \"License\");\n",
              "// you may not use this file except in compliance with the License.\n",
              "// You may obtain a copy of the License at\n",
              "//\n",
              "//      http://www.apache.org/licenses/LICENSE-2.0\n",
              "//\n",
              "// Unless required by applicable law or agreed to in writing, software\n",
              "// distributed under the License is distributed on an \"AS IS\" BASIS,\n",
              "// WITHOUT WARRANTIES OR CONDITIONS OF ANY KIND, either express or implied.\n",
              "// See the License for the specific language governing permissions and\n",
              "// limitations under the License.\n",
              "\n",
              "/**\n",
              " * @fileoverview Helpers for google.colab Python module.\n",
              " */\n",
              "(function(scope) {\n",
              "function span(text, styleAttributes = {}) {\n",
              "  const element = document.createElement('span');\n",
              "  element.textContent = text;\n",
              "  for (const key of Object.keys(styleAttributes)) {\n",
              "    element.style[key] = styleAttributes[key];\n",
              "  }\n",
              "  return element;\n",
              "}\n",
              "\n",
              "// Max number of bytes which will be uploaded at a time.\n",
              "const MAX_PAYLOAD_SIZE = 100 * 1024;\n",
              "\n",
              "function _uploadFiles(inputId, outputId) {\n",
              "  const steps = uploadFilesStep(inputId, outputId);\n",
              "  const outputElement = document.getElementById(outputId);\n",
              "  // Cache steps on the outputElement to make it available for the next call\n",
              "  // to uploadFilesContinue from Python.\n",
              "  outputElement.steps = steps;\n",
              "\n",
              "  return _uploadFilesContinue(outputId);\n",
              "}\n",
              "\n",
              "// This is roughly an async generator (not supported in the browser yet),\n",
              "// where there are multiple asynchronous steps and the Python side is going\n",
              "// to poll for completion of each step.\n",
              "// This uses a Promise to block the python side on completion of each step,\n",
              "// then passes the result of the previous step as the input to the next step.\n",
              "function _uploadFilesContinue(outputId) {\n",
              "  const outputElement = document.getElementById(outputId);\n",
              "  const steps = outputElement.steps;\n",
              "\n",
              "  const next = steps.next(outputElement.lastPromiseValue);\n",
              "  return Promise.resolve(next.value.promise).then((value) => {\n",
              "    // Cache the last promise value to make it available to the next\n",
              "    // step of the generator.\n",
              "    outputElement.lastPromiseValue = value;\n",
              "    return next.value.response;\n",
              "  });\n",
              "}\n",
              "\n",
              "/**\n",
              " * Generator function which is called between each async step of the upload\n",
              " * process.\n",
              " * @param {string} inputId Element ID of the input file picker element.\n",
              " * @param {string} outputId Element ID of the output display.\n",
              " * @return {!Iterable<!Object>} Iterable of next steps.\n",
              " */\n",
              "function* uploadFilesStep(inputId, outputId) {\n",
              "  const inputElement = document.getElementById(inputId);\n",
              "  inputElement.disabled = false;\n",
              "\n",
              "  const outputElement = document.getElementById(outputId);\n",
              "  outputElement.innerHTML = '';\n",
              "\n",
              "  const pickedPromise = new Promise((resolve) => {\n",
              "    inputElement.addEventListener('change', (e) => {\n",
              "      resolve(e.target.files);\n",
              "    });\n",
              "  });\n",
              "\n",
              "  const cancel = document.createElement('button');\n",
              "  inputElement.parentElement.appendChild(cancel);\n",
              "  cancel.textContent = 'Cancel upload';\n",
              "  const cancelPromise = new Promise((resolve) => {\n",
              "    cancel.onclick = () => {\n",
              "      resolve(null);\n",
              "    };\n",
              "  });\n",
              "\n",
              "  // Wait for the user to pick the files.\n",
              "  const files = yield {\n",
              "    promise: Promise.race([pickedPromise, cancelPromise]),\n",
              "    response: {\n",
              "      action: 'starting',\n",
              "    }\n",
              "  };\n",
              "\n",
              "  cancel.remove();\n",
              "\n",
              "  // Disable the input element since further picks are not allowed.\n",
              "  inputElement.disabled = true;\n",
              "\n",
              "  if (!files) {\n",
              "    return {\n",
              "      response: {\n",
              "        action: 'complete',\n",
              "      }\n",
              "    };\n",
              "  }\n",
              "\n",
              "  for (const file of files) {\n",
              "    const li = document.createElement('li');\n",
              "    li.append(span(file.name, {fontWeight: 'bold'}));\n",
              "    li.append(span(\n",
              "        `(${file.type || 'n/a'}) - ${file.size} bytes, ` +\n",
              "        `last modified: ${\n",
              "            file.lastModifiedDate ? file.lastModifiedDate.toLocaleDateString() :\n",
              "                                    'n/a'} - `));\n",
              "    const percent = span('0% done');\n",
              "    li.appendChild(percent);\n",
              "\n",
              "    outputElement.appendChild(li);\n",
              "\n",
              "    const fileDataPromise = new Promise((resolve) => {\n",
              "      const reader = new FileReader();\n",
              "      reader.onload = (e) => {\n",
              "        resolve(e.target.result);\n",
              "      };\n",
              "      reader.readAsArrayBuffer(file);\n",
              "    });\n",
              "    // Wait for the data to be ready.\n",
              "    let fileData = yield {\n",
              "      promise: fileDataPromise,\n",
              "      response: {\n",
              "        action: 'continue',\n",
              "      }\n",
              "    };\n",
              "\n",
              "    // Use a chunked sending to avoid message size limits. See b/62115660.\n",
              "    let position = 0;\n",
              "    do {\n",
              "      const length = Math.min(fileData.byteLength - position, MAX_PAYLOAD_SIZE);\n",
              "      const chunk = new Uint8Array(fileData, position, length);\n",
              "      position += length;\n",
              "\n",
              "      const base64 = btoa(String.fromCharCode.apply(null, chunk));\n",
              "      yield {\n",
              "        response: {\n",
              "          action: 'append',\n",
              "          file: file.name,\n",
              "          data: base64,\n",
              "        },\n",
              "      };\n",
              "\n",
              "      let percentDone = fileData.byteLength === 0 ?\n",
              "          100 :\n",
              "          Math.round((position / fileData.byteLength) * 100);\n",
              "      percent.textContent = `${percentDone}% done`;\n",
              "\n",
              "    } while (position < fileData.byteLength);\n",
              "  }\n",
              "\n",
              "  // All done.\n",
              "  yield {\n",
              "    response: {\n",
              "      action: 'complete',\n",
              "    }\n",
              "  };\n",
              "}\n",
              "\n",
              "scope.google = scope.google || {};\n",
              "scope.google.colab = scope.google.colab || {};\n",
              "scope.google.colab._files = {\n",
              "  _uploadFiles,\n",
              "  _uploadFilesContinue,\n",
              "};\n",
              "})(self);\n",
              "</script> "
            ]
          },
          "metadata": {}
        },
        {
          "output_type": "stream",
          "name": "stdout",
          "text": [
            "Saving dados.xlsx to dados (1).xlsx\n"
          ]
        }
      ]
    },
    {
      "cell_type": "code",
      "source": [
        "file_name = list(uploaded.keys())[0]\n",
        "df = pd.read_excel(file_name, engine='openpyxl')"
      ],
      "metadata": {
        "id": "YpQOXjH71iER"
      },
      "execution_count": 92,
      "outputs": []
    },
    {
      "cell_type": "code",
      "source": [
        "print(\"Dados antes da limpeza:\")\n",
        "print(df.head())"
      ],
      "metadata": {
        "colab": {
          "base_uri": "https://localhost:8080/"
        },
        "id": "q5mRlnGX1tHL",
        "outputId": "45b05139-3934-4238-c830-70298db441c4"
      },
      "execution_count": 93,
      "outputs": [
        {
          "output_type": "stream",
          "name": "stdout",
          "text": [
            "Dados antes da limpeza:\n",
            "                Tempo  Temperatura de Entrada do Multijato  \\\n",
            "0 2016-08-15 00:00:00                            38.594730   \n",
            "1 2016-08-15 00:10:00                            38.605957   \n",
            "2 2016-08-15 00:20:00                            38.649410   \n",
            "3 2016-08-15 00:30:00                            38.508724   \n",
            "4 2016-08-15 00:40:00                            38.411461   \n",
            "\n",
            "   Temperatura de saída no multijato Abertura da válvula de alimentação  \\\n",
            "0                          49.506126                                Bad   \n",
            "1                          50.266792                                Bad   \n",
            "2                          49.517982                                Bad   \n",
            "3                          49.323696                                Bad   \n",
            "4                          49.471863                                Bad   \n",
            "\n",
            "   Nível do cozedor Capacitância do cozedor  Pressão do cozedor  \\\n",
            "0          2.418745                     Bad            0.154811   \n",
            "1          2.453368                     Bad            0.138889   \n",
            "2          2.487992                     Bad            0.130208   \n",
            "3          6.271153                     Bad            0.104167   \n",
            "4         20.443262                     Bad           -0.182292   \n",
            "\n",
            "  Abertura da válvula de alimentação.1  Nível do cozedor.1  \\\n",
            "0                            87.672356            1.901670   \n",
            "1                            87.709595            2.138328   \n",
            "2                            87.746826            1.909722   \n",
            "3                            87.784058            1.909722   \n",
            "4                            87.823311            2.012119   \n",
            "\n",
            "  Capacitância do cozedor.1  ...  Capacitância do cozedor.5  \\\n",
            "0                 87.660149  ...                   37.69323   \n",
            "1                 87.692062  ...                  38.101166   \n",
            "2                 87.723984  ...                  37.903812   \n",
            "3                 87.755898  ...                  38.177235   \n",
            "4                 87.776184  ...                  37.205517   \n",
            "\n",
            "  Pressão do cozedor.5  Abertura da válvula de alimentação.6  \\\n",
            "0            23.290136                              31.83963   \n",
            "1            23.172815                             31.791025   \n",
            "2            23.375998                             32.477604   \n",
            "3            23.369352                             31.812717   \n",
            "4            23.561459                             31.560198   \n",
            "\n",
            "  Nível do cozedor.6  Capacitância do cozedor.6 Pressão do cozedor.6  \\\n",
            "0          53.838245                  31.862869            22.390009   \n",
            "1          57.883759                  31.838085            22.343752   \n",
            "2          61.846996                  32.436874            22.404959   \n",
            "3          65.510345                  31.812717            22.259378   \n",
            "4          69.993462                  31.535929            22.470133   \n",
            "\n",
            "   Abertura da válvula de alimentação.7 Nível do cozedor.7  \\\n",
            "0                             35.431232          81.226997   \n",
            "1                             35.931992          83.803848   \n",
            "2                             36.122684          86.618889   \n",
            "3                             31.924185          88.697815   \n",
            "4                             28.221527          46.346104   \n",
            "\n",
            "   Capacitância do cozedor.7 Pressão do cozedor.7  \n",
            "0                  35.507065            22.777779  \n",
            "1                  35.501183            22.684406  \n",
            "2                  35.857121            22.829863  \n",
            "3                  31.924185            22.854357  \n",
            "4                  28.234112             0.335707  \n",
            "\n",
            "[5 rows x 35 columns]\n"
          ]
        }
      ]
    },
    {
      "cell_type": "code",
      "source": [
        "def contar_bad(df):\n",
        "    total_bad_celulas = df.apply(lambda col: col.map(lambda x: isinstance(x, str) and 'bad' in x.strip().lower())).sum().sum()\n",
        "    total_bad_colunas = df.apply(lambda col: col.map(lambda x: isinstance(x, str) and 'bad' in x.strip().lower())).any().sum()\n",
        "    total_bad_linhas = df.apply(lambda col: col.map(lambda x: isinstance(x, str) and 'bad' in x.strip().lower())).any(axis=1).sum()\n",
        "\n",
        "    return total_bad_linhas, total_bad_colunas, total_bad_celulas\n",
        "\n",
        "total_bad_linhas, total_bad_colunas, total_bad_celulas = contar_bad(df)\n",
        "\n",
        "print(f\"Total de linhas contendo 'Bad': {total_bad_linhas}\")\n",
        "print(f\"Total de colunas contendo 'Bad': {total_bad_colunas}\")\n",
        "print(f\"Total de células contendo 'Bad': {total_bad_celulas}\")"
      ],
      "metadata": {
        "colab": {
          "base_uri": "https://localhost:8080/"
        },
        "id": "FuhCEH8d3myT",
        "outputId": "7f5abbcb-94bb-4407-eb06-973b94e416b9"
      },
      "execution_count": 94,
      "outputs": [
        {
          "output_type": "stream",
          "name": "stdout",
          "text": [
            "Total de linhas contendo 'Bad': 1285\n",
            "Total de colunas contendo 'Bad': 16\n",
            "Total de células contendo 'Bad': 5297\n"
          ]
        }
      ]
    },
    {
      "cell_type": "code",
      "source": [
        "df = df.map(lambda x: 0.0 if isinstance(x, str) and \"bad\" in x.strip().lower() else x)"
      ],
      "metadata": {
        "id": "w0TWC2uX10kU"
      },
      "execution_count": 95,
      "outputs": []
    },
    {
      "cell_type": "code",
      "source": [
        "print(df.head())"
      ],
      "metadata": {
        "colab": {
          "base_uri": "https://localhost:8080/"
        },
        "id": "Ob6gP4of17LO",
        "outputId": "dfeda842-5721-4f25-a456-567ecdc6ec14"
      },
      "execution_count": 96,
      "outputs": [
        {
          "output_type": "stream",
          "name": "stdout",
          "text": [
            "                Tempo  Temperatura de Entrada do Multijato  \\\n",
            "0 2016-08-15 00:00:00                            38.594730   \n",
            "1 2016-08-15 00:10:00                            38.605957   \n",
            "2 2016-08-15 00:20:00                            38.649410   \n",
            "3 2016-08-15 00:30:00                            38.508724   \n",
            "4 2016-08-15 00:40:00                            38.411461   \n",
            "\n",
            "   Temperatura de saída no multijato  Abertura da válvula de alimentação  \\\n",
            "0                          49.506126                                 0.0   \n",
            "1                          50.266792                                 0.0   \n",
            "2                          49.517982                                 0.0   \n",
            "3                          49.323696                                 0.0   \n",
            "4                          49.471863                                 0.0   \n",
            "\n",
            "   Nível do cozedor  Capacitância do cozedor  Pressão do cozedor  \\\n",
            "0          2.418745                      0.0            0.154811   \n",
            "1          2.453368                      0.0            0.138889   \n",
            "2          2.487992                      0.0            0.130208   \n",
            "3          6.271153                      0.0            0.104167   \n",
            "4         20.443262                      0.0           -0.182292   \n",
            "\n",
            "   Abertura da válvula de alimentação.1  Nível do cozedor.1  \\\n",
            "0                             87.672356            1.901670   \n",
            "1                             87.709595            2.138328   \n",
            "2                             87.746826            1.909722   \n",
            "3                             87.784058            1.909722   \n",
            "4                             87.823311            2.012119   \n",
            "\n",
            "   Capacitância do cozedor.1  ...  Capacitância do cozedor.5  \\\n",
            "0                  87.660149  ...                  37.693230   \n",
            "1                  87.692062  ...                  38.101166   \n",
            "2                  87.723984  ...                  37.903812   \n",
            "3                  87.755898  ...                  38.177235   \n",
            "4                  87.776184  ...                  37.205517   \n",
            "\n",
            "   Pressão do cozedor.5  Abertura da válvula de alimentação.6  \\\n",
            "0             23.290136                             31.839630   \n",
            "1             23.172815                             31.791025   \n",
            "2             23.375998                             32.477604   \n",
            "3             23.369352                             31.812717   \n",
            "4             23.561459                             31.560198   \n",
            "\n",
            "   Nível do cozedor.6  Capacitância do cozedor.6  Pressão do cozedor.6  \\\n",
            "0           53.838245                  31.862869             22.390009   \n",
            "1           57.883759                  31.838085             22.343752   \n",
            "2           61.846996                  32.436874             22.404959   \n",
            "3           65.510345                  31.812717             22.259378   \n",
            "4           69.993462                  31.535929             22.470133   \n",
            "\n",
            "   Abertura da válvula de alimentação.7  Nível do cozedor.7  \\\n",
            "0                             35.431232           81.226997   \n",
            "1                             35.931992           83.803848   \n",
            "2                             36.122684           86.618889   \n",
            "3                             31.924185           88.697815   \n",
            "4                             28.221527           46.346104   \n",
            "\n",
            "   Capacitância do cozedor.7  Pressão do cozedor.7  \n",
            "0                  35.507065             22.777779  \n",
            "1                  35.501183             22.684406  \n",
            "2                  35.857121             22.829863  \n",
            "3                  31.924185             22.854357  \n",
            "4                  28.234112              0.335707  \n",
            "\n",
            "[5 rows x 35 columns]\n"
          ]
        }
      ]
    },
    {
      "cell_type": "code",
      "source": [
        "print(\"Dados após a limpeza:\")\n",
        "print(df.head())"
      ],
      "metadata": {
        "colab": {
          "base_uri": "https://localhost:8080/"
        },
        "id": "ypFIHmUO1_s8",
        "outputId": "eae4955b-cd87-4465-ec89-e3b3401ac3bb"
      },
      "execution_count": 97,
      "outputs": [
        {
          "output_type": "stream",
          "name": "stdout",
          "text": [
            "Dados após a limpeza:\n",
            "                Tempo  Temperatura de Entrada do Multijato  \\\n",
            "0 2016-08-15 00:00:00                            38.594730   \n",
            "1 2016-08-15 00:10:00                            38.605957   \n",
            "2 2016-08-15 00:20:00                            38.649410   \n",
            "3 2016-08-15 00:30:00                            38.508724   \n",
            "4 2016-08-15 00:40:00                            38.411461   \n",
            "\n",
            "   Temperatura de saída no multijato  Abertura da válvula de alimentação  \\\n",
            "0                          49.506126                                 0.0   \n",
            "1                          50.266792                                 0.0   \n",
            "2                          49.517982                                 0.0   \n",
            "3                          49.323696                                 0.0   \n",
            "4                          49.471863                                 0.0   \n",
            "\n",
            "   Nível do cozedor  Capacitância do cozedor  Pressão do cozedor  \\\n",
            "0          2.418745                      0.0            0.154811   \n",
            "1          2.453368                      0.0            0.138889   \n",
            "2          2.487992                      0.0            0.130208   \n",
            "3          6.271153                      0.0            0.104167   \n",
            "4         20.443262                      0.0           -0.182292   \n",
            "\n",
            "   Abertura da válvula de alimentação.1  Nível do cozedor.1  \\\n",
            "0                             87.672356            1.901670   \n",
            "1                             87.709595            2.138328   \n",
            "2                             87.746826            1.909722   \n",
            "3                             87.784058            1.909722   \n",
            "4                             87.823311            2.012119   \n",
            "\n",
            "   Capacitância do cozedor.1  ...  Capacitância do cozedor.5  \\\n",
            "0                  87.660149  ...                  37.693230   \n",
            "1                  87.692062  ...                  38.101166   \n",
            "2                  87.723984  ...                  37.903812   \n",
            "3                  87.755898  ...                  38.177235   \n",
            "4                  87.776184  ...                  37.205517   \n",
            "\n",
            "   Pressão do cozedor.5  Abertura da válvula de alimentação.6  \\\n",
            "0             23.290136                             31.839630   \n",
            "1             23.172815                             31.791025   \n",
            "2             23.375998                             32.477604   \n",
            "3             23.369352                             31.812717   \n",
            "4             23.561459                             31.560198   \n",
            "\n",
            "   Nível do cozedor.6  Capacitância do cozedor.6  Pressão do cozedor.6  \\\n",
            "0           53.838245                  31.862869             22.390009   \n",
            "1           57.883759                  31.838085             22.343752   \n",
            "2           61.846996                  32.436874             22.404959   \n",
            "3           65.510345                  31.812717             22.259378   \n",
            "4           69.993462                  31.535929             22.470133   \n",
            "\n",
            "   Abertura da válvula de alimentação.7  Nível do cozedor.7  \\\n",
            "0                             35.431232           81.226997   \n",
            "1                             35.931992           83.803848   \n",
            "2                             36.122684           86.618889   \n",
            "3                             31.924185           88.697815   \n",
            "4                             28.221527           46.346104   \n",
            "\n",
            "   Capacitância do cozedor.7  Pressão do cozedor.7  \n",
            "0                  35.507065             22.777779  \n",
            "1                  35.501183             22.684406  \n",
            "2                  35.857121             22.829863  \n",
            "3                  31.924185             22.854357  \n",
            "4                  28.234112              0.335707  \n",
            "\n",
            "[5 rows x 35 columns]\n"
          ]
        }
      ]
    },
    {
      "cell_type": "code",
      "source": [
        "df[df.columns[0]] = pd.to_datetime(df[df.columns[0]], errors='coerce')"
      ],
      "metadata": {
        "id": "wmuT0ofu2UNX"
      },
      "execution_count": 98,
      "outputs": []
    },
    {
      "cell_type": "code",
      "source": [
        "print(df.head())"
      ],
      "metadata": {
        "colab": {
          "base_uri": "https://localhost:8080/"
        },
        "id": "HGtv0E-W2ZxS",
        "outputId": "7d87a85a-d066-4417-8313-1f3405612ae3"
      },
      "execution_count": 99,
      "outputs": [
        {
          "output_type": "stream",
          "name": "stdout",
          "text": [
            "                Tempo  Temperatura de Entrada do Multijato  \\\n",
            "0 2016-08-15 00:00:00                            38.594730   \n",
            "1 2016-08-15 00:10:00                            38.605957   \n",
            "2 2016-08-15 00:20:00                            38.649410   \n",
            "3 2016-08-15 00:30:00                            38.508724   \n",
            "4 2016-08-15 00:40:00                            38.411461   \n",
            "\n",
            "   Temperatura de saída no multijato  Abertura da válvula de alimentação  \\\n",
            "0                          49.506126                                 0.0   \n",
            "1                          50.266792                                 0.0   \n",
            "2                          49.517982                                 0.0   \n",
            "3                          49.323696                                 0.0   \n",
            "4                          49.471863                                 0.0   \n",
            "\n",
            "   Nível do cozedor  Capacitância do cozedor  Pressão do cozedor  \\\n",
            "0          2.418745                      0.0            0.154811   \n",
            "1          2.453368                      0.0            0.138889   \n",
            "2          2.487992                      0.0            0.130208   \n",
            "3          6.271153                      0.0            0.104167   \n",
            "4         20.443262                      0.0           -0.182292   \n",
            "\n",
            "   Abertura da válvula de alimentação.1  Nível do cozedor.1  \\\n",
            "0                             87.672356            1.901670   \n",
            "1                             87.709595            2.138328   \n",
            "2                             87.746826            1.909722   \n",
            "3                             87.784058            1.909722   \n",
            "4                             87.823311            2.012119   \n",
            "\n",
            "   Capacitância do cozedor.1  ...  Capacitância do cozedor.5  \\\n",
            "0                  87.660149  ...                  37.693230   \n",
            "1                  87.692062  ...                  38.101166   \n",
            "2                  87.723984  ...                  37.903812   \n",
            "3                  87.755898  ...                  38.177235   \n",
            "4                  87.776184  ...                  37.205517   \n",
            "\n",
            "   Pressão do cozedor.5  Abertura da válvula de alimentação.6  \\\n",
            "0             23.290136                             31.839630   \n",
            "1             23.172815                             31.791025   \n",
            "2             23.375998                             32.477604   \n",
            "3             23.369352                             31.812717   \n",
            "4             23.561459                             31.560198   \n",
            "\n",
            "   Nível do cozedor.6  Capacitância do cozedor.6  Pressão do cozedor.6  \\\n",
            "0           53.838245                  31.862869             22.390009   \n",
            "1           57.883759                  31.838085             22.343752   \n",
            "2           61.846996                  32.436874             22.404959   \n",
            "3           65.510345                  31.812717             22.259378   \n",
            "4           69.993462                  31.535929             22.470133   \n",
            "\n",
            "   Abertura da válvula de alimentação.7  Nível do cozedor.7  \\\n",
            "0                             35.431232           81.226997   \n",
            "1                             35.931992           83.803848   \n",
            "2                             36.122684           86.618889   \n",
            "3                             31.924185           88.697815   \n",
            "4                             28.221527           46.346104   \n",
            "\n",
            "   Capacitância do cozedor.7  Pressão do cozedor.7  \n",
            "0                  35.507065             22.777779  \n",
            "1                  35.501183             22.684406  \n",
            "2                  35.857121             22.829863  \n",
            "3                  31.924185             22.854357  \n",
            "4                  28.234112              0.335707  \n",
            "\n",
            "[5 rows x 35 columns]\n"
          ]
        }
      ]
    },
    {
      "cell_type": "code",
      "source": [
        "plt.figure(figsize=(10, 6))\n",
        "plt.plot(df[df.columns[0]], df[df.columns[1]], label='Temperatura de Entrada do Multijato')"
      ],
      "metadata": {
        "colab": {
          "base_uri": "https://localhost:8080/",
          "height": 539
        },
        "id": "FkfczVZx2eKH",
        "outputId": "45765d2b-14fc-46b4-cf7b-c413ad553118"
      },
      "execution_count": 104,
      "outputs": [
        {
          "output_type": "execute_result",
          "data": {
            "text/plain": [
              "[<matplotlib.lines.Line2D at 0x780a27be6260>]"
            ]
          },
          "metadata": {},
          "execution_count": 104
        },
        {
          "output_type": "display_data",
          "data": {
            "text/plain": [
              "<Figure size 1000x600 with 1 Axes>"
            ],
            "image/png": "[encoded data removed]"
          },
          "metadata": {}
        }
      ]
    },
    {
      "cell_type": "code",
      "source": [
        "df.to_excel('planilha_limpa.xlsx', index=False, engine='openpyxl')"
      ],
      "metadata": {
        "id": "1smcggVS201q"
      },
      "execution_count": 101,
      "outputs": []
    },
    {
      "cell_type": "code",
      "source": [
        "files.download('planilha_limpa.xlsx')"
      ],
      "metadata": {
        "colab": {
          "base_uri": "https://localhost:8080/",
          "height": 17
        },
        "id": "En55DN5G28vL",
        "outputId": "95e7f7d3-3283-4e33-d5d6-af582cd29a2c"
      },
      "execution_count": 102,
      "outputs": [
        {
          "output_type": "display_data",
          "data": {
            "text/plain": [
              "<IPython.core.display.Javascript object>"
            ],
            "application/javascript": [
              "\n",
              "    async function download(id, filename, size) {\n",
              "      if (!google.colab.kernel.accessAllowed) {\n",
              "        return;\n",
              "      }\n",
              "      const div = document.createElement('div');\n",
              "      const label = document.createElement('label');\n",
              "      label.textContent = `Downloading \"${filename}\": `;\n",
              "      div.appendChild(label);\n",
              "      const progress = document.createElement('progress');\n",
              "      progress.max = size;\n",
              "      div.appendChild(progress);\n",
              "      document.body.appendChild(div);\n",
              "\n",
              "      const buffers = [];\n",
              "      let downloaded = 0;\n",
              "\n",
              "      const channel = await google.colab.kernel.comms.open(id);\n",
              "      // Send a message to notify the kernel that we're ready.\n",
              "      channel.send({})\n",
              "\n",
              "      for await (const message of channel.messages) {\n",
              "        // Send a message to notify the kernel that we're ready.\n",
              "        channel.send({})\n",
              "        if (message.buffers) {\n",
              "          for (const buffer of message.buffers) {\n",
              "            buffers.push(buffer);\n",
              "            downloaded += buffer.byteLength;\n",
              "            progress.value = downloaded;\n",
              "          }\n",
              "        }\n",
              "      }\n",
              "      const blob = new Blob(buffers, {type: 'application/binary'});\n",
              "      const a = document.createElement('a');\n",
              "      a.href = window.URL.createObjectURL(blob);\n",
              "      a.download = filename;\n",
              "      div.appendChild(a);\n",
              "      a.click();\n",
              "      div.remove();\n",
              "    }\n",
              "  "
            ]
          },
          "metadata": {}
        },
        {
          "output_type": "display_data",
          "data": {
            "text/plain": [
              "<IPython.core.display.Javascript object>"
            ],
            "application/javascript": [
              "download(\"download_bde58f50-bb5d-4d68-8da7-56fdd0ad36f4\", \"planilha_limpa.xlsx\", 540041)"
            ]
          },
          "metadata": {}
        }
      ]
    }
  ]
}